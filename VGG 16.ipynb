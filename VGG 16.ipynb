{
 "cells": [
  {
   "cell_type": "code",
   "execution_count": null,
   "id": "8f7df8b0",
   "metadata": {},
   "outputs": [],
   "source": [
    "!pip uninstall tensorflow-cpu"
   ]
  },
  {
   "cell_type": "code",
   "execution_count": 4,
   "id": "a269e67d",
   "metadata": {},
   "outputs": [
    {
     "name": "stdout",
     "output_type": "stream",
     "text": [
      "Requirement already satisfied: tensorflow-cpu==2.9.1 in c:\\users\\lenono\\anaconda3\\envs\\dl1\\lib\\site-packages (2.9.1)\n",
      "Requirement already satisfied: gast<=0.4.0,>=0.2.1 in c:\\users\\lenono\\appdata\\roaming\\python\\python39\\site-packages (from tensorflow-cpu==2.9.1) (0.4.0)\n",
      "Requirement already satisfied: libclang>=13.0.0 in c:\\users\\lenono\\anaconda3\\envs\\dl1\\lib\\site-packages (from tensorflow-cpu==2.9.1) (14.0.1)\n",
      "Requirement already satisfied: astunparse>=1.6.0 in c:\\users\\lenono\\appdata\\roaming\\python\\python39\\site-packages (from tensorflow-cpu==2.9.1) (1.6.3)\n",
      "Requirement already satisfied: opt-einsum>=2.3.2 in c:\\users\\lenono\\appdata\\roaming\\python\\python39\\site-packages (from tensorflow-cpu==2.9.1) (3.3.0)\n",
      "Requirement already satisfied: grpcio<2.0,>=1.24.3 in c:\\users\\lenono\\appdata\\roaming\\python\\python39\\site-packages (from tensorflow-cpu==2.9.1) (1.43.0)\n",
      "Requirement already satisfied: termcolor>=1.1.0 in c:\\users\\lenono\\appdata\\roaming\\python\\python39\\site-packages (from tensorflow-cpu==2.9.1) (1.1.0)\n",
      "Requirement already satisfied: keras-preprocessing>=1.1.1 in c:\\users\\lenono\\appdata\\roaming\\python\\python39\\site-packages (from tensorflow-cpu==2.9.1) (1.1.2)\n",
      "Requirement already satisfied: typing-extensions>=3.6.6 in c:\\users\\lenono\\appdata\\roaming\\python\\python39\\site-packages (from tensorflow-cpu==2.9.1) (4.0.1)\n",
      "Requirement already satisfied: wrapt>=1.11.0 in c:\\users\\lenono\\anaconda3\\envs\\dl1\\lib\\site-packages (from tensorflow-cpu==2.9.1) (1.14.1)\n",
      "Requirement already satisfied: absl-py>=1.0.0 in c:\\users\\lenono\\appdata\\roaming\\python\\python39\\site-packages (from tensorflow-cpu==2.9.1) (1.0.0)\n",
      "Requirement already satisfied: protobuf<3.20,>=3.9.2 in c:\\users\\lenono\\anaconda3\\envs\\dl1\\lib\\site-packages (from tensorflow-cpu==2.9.1) (3.19.4)\n",
      "Requirement already satisfied: h5py>=2.9.0 in c:\\users\\lenono\\appdata\\roaming\\python\\python39\\site-packages (from tensorflow-cpu==2.9.1) (3.6.0)\n",
      "Requirement already satisfied: google-pasta>=0.1.1 in c:\\users\\lenono\\appdata\\roaming\\python\\python39\\site-packages (from tensorflow-cpu==2.9.1) (0.2.0)\n",
      "Requirement already satisfied: keras<2.10.0,>=2.9.0rc0 in c:\\users\\lenono\\anaconda3\\envs\\dl1\\lib\\site-packages (from tensorflow-cpu==2.9.1) (2.9.0)\n",
      "Requirement already satisfied: flatbuffers<2,>=1.12 in c:\\users\\lenono\\anaconda3\\envs\\dl1\\lib\\site-packages (from tensorflow-cpu==2.9.1) (1.12)\n",
      "Requirement already satisfied: tensorflow-io-gcs-filesystem>=0.23.1 in c:\\users\\lenono\\appdata\\roaming\\python\\python39\\site-packages (from tensorflow-cpu==2.9.1) (0.23.1)\n",
      "Requirement already satisfied: tensorboard<2.10,>=2.9 in c:\\users\\lenono\\anaconda3\\envs\\dl1\\lib\\site-packages (from tensorflow-cpu==2.9.1) (2.9.0)\n",
      "Requirement already satisfied: tensorflow-estimator<2.10.0,>=2.9.0rc0 in c:\\users\\lenono\\anaconda3\\envs\\dl1\\lib\\site-packages (from tensorflow-cpu==2.9.1) (2.9.0)\n",
      "Requirement already satisfied: setuptools in c:\\users\\lenono\\anaconda3\\envs\\dl1\\lib\\site-packages (from tensorflow-cpu==2.9.1) (62.3.2)\n",
      "Requirement already satisfied: numpy>=1.20 in c:\\users\\lenono\\anaconda3\\envs\\dl1\\lib\\site-packages (from tensorflow-cpu==2.9.1) (1.22.4)\n",
      "Requirement already satisfied: packaging in c:\\users\\lenono\\anaconda3\\envs\\dl1\\lib\\site-packages (from tensorflow-cpu==2.9.1) (21.3)\n",
      "Requirement already satisfied: six>=1.12.0 in c:\\users\\lenono\\anaconda3\\envs\\dl1\\lib\\site-packages (from tensorflow-cpu==2.9.1) (1.16.0)\n",
      "Requirement already satisfied: wheel<1.0,>=0.23.0 in c:\\users\\lenono\\anaconda3\\envs\\dl1\\lib\\site-packages (from astunparse>=1.6.0->tensorflow-cpu==2.9.1) (0.37.1)\n",
      "Requirement already satisfied: google-auth<3,>=1.6.3 in c:\\users\\lenono\\anaconda3\\envs\\dl1\\lib\\site-packages (from tensorboard<2.10,>=2.9->tensorflow-cpu==2.9.1) (2.6.6)\n",
      "Requirement already satisfied: tensorboard-data-server<0.7.0,>=0.6.0 in c:\\users\\lenono\\appdata\\roaming\\python\\python39\\site-packages (from tensorboard<2.10,>=2.9->tensorflow-cpu==2.9.1) (0.6.1)\n",
      "Requirement already satisfied: werkzeug>=1.0.1 in c:\\users\\lenono\\anaconda3\\envs\\dl1\\lib\\site-packages (from tensorboard<2.10,>=2.9->tensorflow-cpu==2.9.1) (2.1.2)\n",
      "Requirement already satisfied: requests<3,>=2.21.0 in c:\\users\\lenono\\anaconda3\\envs\\dl1\\lib\\site-packages (from tensorboard<2.10,>=2.9->tensorflow-cpu==2.9.1) (2.27.1)\n",
      "Requirement already satisfied: google-auth-oauthlib<0.5,>=0.4.1 in c:\\users\\lenono\\appdata\\roaming\\python\\python39\\site-packages (from tensorboard<2.10,>=2.9->tensorflow-cpu==2.9.1) (0.4.6)\n",
      "Requirement already satisfied: tensorboard-plugin-wit>=1.6.0 in c:\\users\\lenono\\anaconda3\\envs\\dl1\\lib\\site-packages (from tensorboard<2.10,>=2.9->tensorflow-cpu==2.9.1) (1.8.1)\n",
      "Requirement already satisfied: markdown>=2.6.8 in c:\\users\\lenono\\anaconda3\\envs\\dl1\\lib\\site-packages (from tensorboard<2.10,>=2.9->tensorflow-cpu==2.9.1) (3.3.7)\n",
      "Requirement already satisfied: pyasn1-modules>=0.2.1 in c:\\users\\lenono\\appdata\\roaming\\python\\python39\\site-packages (from google-auth<3,>=1.6.3->tensorboard<2.10,>=2.9->tensorflow-cpu==2.9.1) (0.2.8)\n",
      "Requirement already satisfied: cachetools<6.0,>=2.0.0 in c:\\users\\lenono\\anaconda3\\envs\\dl1\\lib\\site-packages (from google-auth<3,>=1.6.3->tensorboard<2.10,>=2.9->tensorflow-cpu==2.9.1) (5.2.0)\n",
      "Requirement already satisfied: rsa<5,>=3.1.4 in c:\\users\\lenono\\anaconda3\\envs\\dl1\\lib\\site-packages (from google-auth<3,>=1.6.3->tensorboard<2.10,>=2.9->tensorflow-cpu==2.9.1) (4.8)\n",
      "Requirement already satisfied: requests-oauthlib>=0.7.0 in c:\\users\\lenono\\appdata\\roaming\\python\\python39\\site-packages (from google-auth-oauthlib<0.5,>=0.4.1->tensorboard<2.10,>=2.9->tensorflow-cpu==2.9.1) (1.3.0)\n",
      "Requirement already satisfied: importlib-metadata>=4.4 in c:\\users\\lenono\\appdata\\roaming\\python\\python39\\site-packages (from markdown>=2.6.8->tensorboard<2.10,>=2.9->tensorflow-cpu==2.9.1) (4.10.0)\n",
      "Requirement already satisfied: zipp>=0.5 in c:\\users\\lenono\\anaconda3\\envs\\dl1\\lib\\site-packages (from importlib-metadata>=4.4->markdown>=2.6.8->tensorboard<2.10,>=2.9->tensorflow-cpu==2.9.1) (3.8.0)\n",
      "Requirement already satisfied: pyasn1<0.5.0,>=0.4.6 in c:\\users\\lenono\\appdata\\roaming\\python\\python39\\site-packages (from pyasn1-modules>=0.2.1->google-auth<3,>=1.6.3->tensorboard<2.10,>=2.9->tensorflow-cpu==2.9.1) (0.4.8)\n",
      "Requirement already satisfied: certifi>=2017.4.17 in c:\\users\\lenono\\anaconda3\\envs\\dl1\\lib\\site-packages (from requests<3,>=2.21.0->tensorboard<2.10,>=2.9->tensorflow-cpu==2.9.1) (2022.5.18.1)\n",
      "Requirement already satisfied: charset-normalizer~=2.0.0 in c:\\users\\lenono\\appdata\\roaming\\python\\python39\\site-packages (from requests<3,>=2.21.0->tensorboard<2.10,>=2.9->tensorflow-cpu==2.9.1) (2.0.10)\n",
      "Requirement already satisfied: urllib3<1.27,>=1.21.1 in c:\\users\\lenono\\anaconda3\\envs\\dl1\\lib\\site-packages (from requests<3,>=2.21.0->tensorboard<2.10,>=2.9->tensorflow-cpu==2.9.1) (1.26.9)\n",
      "Requirement already satisfied: idna<4,>=2.5 in c:\\users\\lenono\\anaconda3\\envs\\dl1\\lib\\site-packages (from requests<3,>=2.21.0->tensorboard<2.10,>=2.9->tensorflow-cpu==2.9.1) (3.3)\n",
      "Requirement already satisfied: oauthlib>=3.0.0 in c:\\users\\lenono\\anaconda3\\envs\\dl1\\lib\\site-packages (from requests-oauthlib>=0.7.0->google-auth-oauthlib<0.5,>=0.4.1->tensorboard<2.10,>=2.9->tensorflow-cpu==2.9.1) (3.2.0)\n",
      "Requirement already satisfied: pyparsing!=3.0.5,>=2.0.2 in c:\\users\\lenono\\anaconda3\\envs\\dl1\\lib\\site-packages (from packaging->tensorflow-cpu==2.9.1) (3.0.9)\n"
     ]
    }
   ],
   "source": [
    "!pip install tensorflow-cpu==2.9.1"
   ]
  },
  {
   "cell_type": "code",
   "execution_count": 1,
   "id": "fc1e0eab",
   "metadata": {},
   "outputs": [],
   "source": [
    "from keras.layers import Input, Lambda, Dense, Flatten\n",
    "from keras.models import Model\n",
    "from keras.applications.vgg16 import VGG16\n",
    "from keras.applications.vgg16 import preprocess_input\n",
    "from keras.preprocessing import image\n",
    "from keras.preprocessing.image import ImageDataGenerator\n",
    "from keras.models import Sequential\n",
    "import numpy as np\n",
    "from glob import glob\n",
    "import matplotlib.pyplot as plt\n",
    "import pandas as pd\n",
    "import warnings\n",
    "warnings.filterwarnings(\"ignore\", category=FutureWarning)"
   ]
  },
  {
   "cell_type": "code",
   "execution_count": 2,
   "id": "1ff2d312",
   "metadata": {},
   "outputs": [],
   "source": [
    "import tensorflow as tf\n",
    "from tensorflow.keras.layers import Input\n",
    "from tensorflow.keras.preprocessing.image import ImageDataGenerator\n",
    "from tensorflow.keras.callbacks import ReduceLROnPlateau\n",
    "from tensorflow.keras.preprocessing.image import load_img\n",
    "from tensorflow.keras.optimizers import Adam,SGD,Adagrad,Adadelta,RMSprop\n",
    "from tensorflow.keras.models import Sequential\n",
    "import cv2\n",
    "from tensorflow.keras.layers import Dropout, Flatten,Activation\n",
    "from tensorflow.keras.layers import Conv2D, MaxPooling2D,Dense,UpSampling2D,GlobalAveragePooling2D,BatchNormalization\n",
    "from pathlib import Path\n",
    "from tensorflow.keras.preprocessing import image\n",
    "import random \n",
    "from tensorflow.keras.models import Sequential\n",
    "from tensorflow.keras.layers import Flatten, Dense, Activation, MaxPool2D, Dropout\n",
    "import os"
   ]
  },
  {
   "cell_type": "code",
   "execution_count": 3,
   "id": "cd6a4459",
   "metadata": {},
   "outputs": [],
   "source": [
    "def load_images(folder):\n",
    "    images = []\n",
    "    for filename in os.listdir(folder):\n",
    "        img = cv2.imread(os.path.join(folder,filename))\n",
    "        if img is not None:\n",
    "            images.append(img)\n",
    "    return images"
   ]
  },
  {
   "cell_type": "code",
   "execution_count": 4,
   "id": "24f0ac14",
   "metadata": {},
   "outputs": [
    {
     "name": "stdout",
     "output_type": "stream",
     "text": [
      "299\n"
     ]
    }
   ],
   "source": [
    "m_pics = load_images(r\"D:\\SEM 6\\Deep  Learning Lab\\transfer learning\\cats_dog_ds\\cats\")\n",
    "\n",
    "print(len(m_pics))"
   ]
  },
  {
   "cell_type": "code",
   "execution_count": 5,
   "id": "882d99dd",
   "metadata": {},
   "outputs": [
    {
     "name": "stdout",
     "output_type": "stream",
     "text": [
      "301\n"
     ]
    }
   ],
   "source": [
    "wm_pics = load_images(r\"D:\\SEM 6\\Deep  Learning Lab\\transfer learning\\cats_dog_ds\\dogs\")\n",
    "print(len(wm_pics))"
   ]
  },
  {
   "cell_type": "code",
   "execution_count": 6,
   "id": "8a7c896f",
   "metadata": {},
   "outputs": [],
   "source": [
    "import matplotlib.pyplot as plt"
   ]
  },
  {
   "cell_type": "code",
   "execution_count": 7,
   "id": "b7f04b76",
   "metadata": {},
   "outputs": [
    {
     "data": {
      "text/plain": [
       "<matplotlib.image.AxesImage at 0x1d22b08b3c8>"
      ]
     },
     "execution_count": 7,
     "metadata": {},
     "output_type": "execute_result"
    },
    {
     "data": {
      "image/png": "[encoded data removed]",
      "text/plain": [
       "<Figure size 432x288 with 1 Axes>"
      ]
     },
     "metadata": {
      "needs_background": "light"
     },
     "output_type": "display_data"
    }
   ],
   "source": [
    "plt.imshow(wm_pics[1])"
   ]
  },
  {
   "cell_type": "code",
   "execution_count": 8,
   "id": "330dfee4",
   "metadata": {},
   "outputs": [],
   "source": [
    "my_seed = 0\n",
    "np.random.seed(my_seed)\n",
    "\n",
    "random.seed(my_seed)\n",
    "tf.random.set_seed(my_seed)"
   ]
  },
  {
   "cell_type": "code",
   "execution_count": 9,
   "id": "fca89292",
   "metadata": {},
   "outputs": [],
   "source": [
    "data_dir_train=r'D:\\\\SEM 6\\Deep  Learning Lab\\\\transfer learning\\\\cats_dog_ds'"
   ]
  },
  {
   "cell_type": "code",
   "execution_count": 10,
   "id": "fc35e7e6",
   "metadata": {},
   "outputs": [],
   "source": [
    "batch_size = 32\n",
    "img_height = 224\n",
    "img_width = 224"
   ]
  },
  {
   "cell_type": "code",
   "execution_count": 11,
   "id": "a963068b",
   "metadata": {},
   "outputs": [
    {
     "name": "stdout",
     "output_type": "stream",
     "text": [
      "Found 601 files belonging to 2 classes.\n",
      "Using 481 files for training.\n"
     ]
    }
   ],
   "source": [
    "#train_ds = ##todo\n",
    "train_ds = tf.keras.preprocessing.image_dataset_from_directory(\n",
    "  data_dir_train,\n",
    "  validation_split=0.2,\n",
    "  subset=\"training\",\n",
    "  seed=123,\n",
    "  image_size=(img_height, img_width),\n",
    "  batch_size=batch_size)"
   ]
  },
  {
   "cell_type": "code",
   "execution_count": 12,
   "id": "0cc2f22b",
   "metadata": {},
   "outputs": [
    {
     "name": "stdout",
     "output_type": "stream",
     "text": [
      "Found 601 files belonging to 2 classes.\n",
      "Using 120 files for validation.\n"
     ]
    }
   ],
   "source": [
    "val_ds = tf.keras.preprocessing.image_dataset_from_directory(\n",
    "  data_dir_train,\n",
    "  validation_split=0.2,\n",
    "  subset=\"validation\",\n",
    "  seed=123,\n",
    "  image_size=(img_height, img_width),\n",
    "  batch_size=batch_size)"
   ]
  },
  {
   "cell_type": "code",
   "execution_count": 13,
   "id": "0163f883",
   "metadata": {},
   "outputs": [
    {
     "name": "stdout",
     "output_type": "stream",
     "text": [
      "['cats', 'dogs']\n"
     ]
    }
   ],
   "source": [
    "class_names = train_ds.class_names\n",
    "print(class_names)"
   ]
  },
  {
   "cell_type": "code",
   "execution_count": 14,
   "id": "19d29759",
   "metadata": {},
   "outputs": [
    {
     "name": "stdout",
     "output_type": "stream",
     "text": [
      "Found 481 images belonging to 2 classes.\n",
      "Found 120 images belonging to 2 classes.\n"
     ]
    }
   ],
   "source": [
    "train_datagen = ImageDataGenerator(\n",
    "        rescale=1 / 255.0,\n",
    "        rotation_range=20,\n",
    "        width_shift_range=0.05,\n",
    "        height_shift_range=0.05,\n",
    "        horizontal_flip=True,\n",
    "        validation_split=0.20)\n",
    "\n",
    "training_set = train_datagen.flow_from_directory(data_dir_train,\n",
    "                                                 target_size = (img_height, img_width),\n",
    "                                                 batch_size = batch_size,\n",
    "                                                 class_mode = 'categorical',subset='training')\n",
    "\n",
    "val_set = train_datagen.flow_from_directory(data_dir_train,\n",
    "                                          target_size = (img_height, img_width),\n",
    "                                          batch_size = batch_size,\n",
    "                                          class_mode = 'categorical',subset='validation')"
   ]
  },
  {
   "cell_type": "code",
   "execution_count": 15,
   "id": "b6f12ee4",
   "metadata": {},
   "outputs": [],
   "source": [
    "IMAGE_SIZE = [224, 224]"
   ]
  },
  {
   "cell_type": "code",
   "execution_count": 16,
   "id": "a372fb27",
   "metadata": {},
   "outputs": [],
   "source": [
    "vgg = VGG16(input_shape=IMAGE_SIZE + [3], weights='imagenet', include_top=False)#top=false we need to declare the no.of classes"
   ]
  },
  {
   "cell_type": "code",
   "execution_count": 17,
   "id": "47ffeb76",
   "metadata": {},
   "outputs": [
    {
     "name": "stdout",
     "output_type": "stream",
     "text": [
      "Model: \"vgg16\"\n",
      "_________________________________________________________________\n",
      " Layer (type)                Output Shape              Param #   \n",
      "=================================================================\n",
      " input_1 (InputLayer)        [(None, 224, 224, 3)]     0         \n",
      "                                                                 \n",
      " block1_conv1 (Conv2D)       (None, 224, 224, 64)      1792      \n",
      "                                                                 \n",
      " block1_conv2 (Conv2D)       (None, 224, 224, 64)      36928     \n",
      "                                                                 \n",
      " block1_pool (MaxPooling2D)  (None, 112, 112, 64)      0         \n",
      "                                                                 \n",
      " block2_conv1 (Conv2D)       (None, 112, 112, 128)     73856     \n",
      "                                                                 \n",
      " block2_conv2 (Conv2D)       (None, 112, 112, 128)     147584    \n",
      "                                                                 \n",
      " block2_pool (MaxPooling2D)  (None, 56, 56, 128)       0         \n",
      "                                                                 \n",
      " block3_conv1 (Conv2D)       (None, 56, 56, 256)       295168    \n",
      "                                                                 \n",
      " block3_conv2 (Conv2D)       (None, 56, 56, 256)       590080    \n",
      "                                                                 \n",
      " block3_conv3 (Conv2D)       (None, 56, 56, 256)       590080    \n",
      "                                                                 \n",
      " block3_pool (MaxPooling2D)  (None, 28, 28, 256)       0         \n",
      "                                                                 \n",
      " block4_conv1 (Conv2D)       (None, 28, 28, 512)       1180160   \n",
      "                                                                 \n",
      " block4_conv2 (Conv2D)       (None, 28, 28, 512)       2359808   \n",
      "                                                                 \n",
      " block4_conv3 (Conv2D)       (None, 28, 28, 512)       2359808   \n",
      "                                                                 \n",
      " block4_pool (MaxPooling2D)  (None, 14, 14, 512)       0         \n",
      "                                                                 \n",
      " block5_conv1 (Conv2D)       (None, 14, 14, 512)       2359808   \n",
      "                                                                 \n",
      " block5_conv2 (Conv2D)       (None, 14, 14, 512)       2359808   \n",
      "                                                                 \n",
      " block5_conv3 (Conv2D)       (None, 14, 14, 512)       2359808   \n",
      "                                                                 \n",
      " block5_pool (MaxPooling2D)  (None, 7, 7, 512)         0         \n",
      "                                                                 \n",
      "=================================================================\n",
      "Total params: 14,714,688\n",
      "Trainable params: 14,714,688\n",
      "Non-trainable params: 0\n",
      "_________________________________________________________________\n"
     ]
    }
   ],
   "source": [
    "vgg.summary()"
   ]
  },
  {
   "cell_type": "code",
   "execution_count": 18,
   "id": "3a2d1c62",
   "metadata": {},
   "outputs": [],
   "source": [
    "# don't train existing weights\n",
    "for layer in vgg.layers:\n",
    "      layer.trainable = False"
   ]
  },
  {
   "cell_type": "code",
   "execution_count": 29,
   "id": "fb597555",
   "metadata": {},
   "outputs": [],
   "source": [
    "model = Sequential()\n",
    "model.add(vgg)\n",
    "model.add(Flatten())\n",
    "model.add(Dense(200, activation='relu'))\n",
    "model.add(Dense(200, activation='relu'))\n",
    "model.add(Dropout(.25))\n",
    "model.add(Dense(250, activation='relu'))\n",
    "model.add(Dense(2, activation='softmax'))"
   ]
  },
  {
   "cell_type": "code",
   "execution_count": 30,
   "id": "43a2ed89",
   "metadata": {},
   "outputs": [
    {
     "name": "stdout",
     "output_type": "stream",
     "text": [
      "Model: \"sequential_2\"\n",
      "_________________________________________________________________\n",
      " Layer (type)                Output Shape              Param #   \n",
      "=================================================================\n",
      " vgg16 (Functional)          (None, 7, 7, 512)         14714688  \n",
      "                                                                 \n",
      " flatten_2 (Flatten)         (None, 25088)             0         \n",
      "                                                                 \n",
      " dense_8 (Dense)             (None, 200)               5017800   \n",
      "                                                                 \n",
      " dense_9 (Dense)             (None, 200)               40200     \n",
      "                                                                 \n",
      " dropout_2 (Dropout)         (None, 200)               0         \n",
      "                                                                 \n",
      " dense_10 (Dense)            (None, 250)               50250     \n",
      "                                                                 \n",
      " dense_11 (Dense)            (None, 2)                 502       \n",
      "                                                                 \n",
      "=================================================================\n",
      "Total params: 19,823,440\n",
      "Trainable params: 5,108,752\n",
      "Non-trainable params: 14,714,688\n",
      "_________________________________________________________________\n"
     ]
    }
   ],
   "source": [
    "model.summary()"
   ]
  },
  {
   "cell_type": "code",
   "execution_count": 31,
   "id": "6c98e012",
   "metadata": {},
   "outputs": [],
   "source": [
    "model.compile(loss='categorical_crossentropy',optimizer='Adam',metrics=['accuracy'])"
   ]
  },
  {
   "cell_type": "code",
   "execution_count": 32,
   "id": "c7cb6243",
   "metadata": {},
   "outputs": [
    {
     "name": "stderr",
     "output_type": "stream",
     "text": [
      "C:\\Users\\Lenono\\anaconda3\\envs\\dl2\\lib\\site-packages\\ipykernel_launcher.py:6: UserWarning: `Model.fit_generator` is deprecated and will be removed in a future version. Please use `Model.fit`, which supports generators.\n",
      "  \n"
     ]
    },
    {
     "name": "stdout",
     "output_type": "stream",
     "text": [
      "Epoch 1/20\n",
      "16/16 [==============================] - 101s 6s/step - loss: 1.1332 - accuracy: 0.5239 - val_loss: 0.5133 - val_accuracy: 0.7667\n",
      "Epoch 2/20\n",
      "16/16 [==============================] - 105s 7s/step - loss: 0.6062 - accuracy: 0.7027 - val_loss: 0.2551 - val_accuracy: 0.9333\n",
      "Epoch 3/20\n",
      "16/16 [==============================] - 105s 7s/step - loss: 0.4427 - accuracy: 0.8087 - val_loss: 0.2069 - val_accuracy: 0.9167\n",
      "Epoch 4/20\n",
      "16/16 [==============================] - 105s 7s/step - loss: 0.3449 - accuracy: 0.8503 - val_loss: 0.1983 - val_accuracy: 0.8917\n",
      "Epoch 5/20\n",
      "16/16 [==============================] - 106s 7s/step - loss: 0.2711 - accuracy: 0.8815 - val_loss: 0.2860 - val_accuracy: 0.8750\n",
      "Epoch 6/20\n",
      "16/16 [==============================] - 105s 7s/step - loss: 0.1777 - accuracy: 0.9335 - val_loss: 0.1957 - val_accuracy: 0.9083\n",
      "Epoch 7/20\n",
      "16/16 [==============================] - 121s 8s/step - loss: 0.1552 - accuracy: 0.9293 - val_loss: 0.1800 - val_accuracy: 0.9250\n",
      "Epoch 8/20\n",
      "16/16 [==============================] - 117s 7s/step - loss: 0.1612 - accuracy: 0.9335 - val_loss: 0.2304 - val_accuracy: 0.9333\n",
      "Epoch 9/20\n",
      "16/16 [==============================] - 111s 7s/step - loss: 0.1445 - accuracy: 0.9356 - val_loss: 0.1550 - val_accuracy: 0.9250\n",
      "Epoch 10/20\n",
      "16/16 [==============================] - 106s 7s/step - loss: 0.1451 - accuracy: 0.9418 - val_loss: 0.1302 - val_accuracy: 0.9583\n",
      "Epoch 11/20\n",
      "16/16 [==============================] - 106s 7s/step - loss: 0.1086 - accuracy: 0.9522 - val_loss: 0.1299 - val_accuracy: 0.9250\n",
      "Epoch 12/20\n",
      "16/16 [==============================] - 106s 7s/step - loss: 0.0720 - accuracy: 0.9834 - val_loss: 0.1470 - val_accuracy: 0.9333\n",
      "Epoch 13/20\n",
      "16/16 [==============================] - 105s 7s/step - loss: 0.0496 - accuracy: 0.9813 - val_loss: 0.2453 - val_accuracy: 0.9250\n",
      "Epoch 14/20\n",
      "16/16 [==============================] - 105s 7s/step - loss: 0.2253 - accuracy: 0.9023 - val_loss: 0.1614 - val_accuracy: 0.9500\n",
      "Epoch 15/20\n",
      "16/16 [==============================] - 105s 7s/step - loss: 0.1361 - accuracy: 0.9376 - val_loss: 0.2257 - val_accuracy: 0.9083\n",
      "Epoch 16/20\n",
      "16/16 [==============================] - 109s 7s/step - loss: 0.1035 - accuracy: 0.9667 - val_loss: 0.2007 - val_accuracy: 0.9417\n",
      "Epoch 17/20\n",
      "16/16 [==============================] - 106s 7s/step - loss: 0.1665 - accuracy: 0.9335 - val_loss: 0.2015 - val_accuracy: 0.9167\n",
      "Epoch 18/20\n",
      "16/16 [==============================] - 107s 7s/step - loss: 0.0815 - accuracy: 0.9667 - val_loss: 0.4636 - val_accuracy: 0.8500\n",
      "Epoch 19/20\n",
      "16/16 [==============================] - 106s 7s/step - loss: 0.0620 - accuracy: 0.9792 - val_loss: 0.2744 - val_accuracy: 0.9250\n",
      "Epoch 20/20\n",
      "16/16 [==============================] - 106s 7s/step - loss: 0.0475 - accuracy: 0.9813 - val_loss: 0.1953 - val_accuracy: 0.9250\n"
     ]
    }
   ],
   "source": [
    "hist = model.fit_generator(\n",
    "  training_set,\n",
    "  validation_data=val_set,\n",
    "  epochs=20,\n",
    "  steps_per_epoch=len(training_set),\n",
    "  validation_steps=len(val_set)\n",
    ")"
   ]
  },
  {
   "cell_type": "code",
   "execution_count": 33,
   "id": "102ad8e5",
   "metadata": {},
   "outputs": [
    {
     "data": {
      "text/html": [
       "<div>\n",
       "<style scoped>\n",
       "    .dataframe tbody tr th:only-of-type {\n",
       "        vertical-align: middle;\n",
       "    }\n",
       "\n",
       "    .dataframe tbody tr th {\n",
       "        vertical-align: top;\n",
       "    }\n",
       "\n",
       "    .dataframe thead th {\n",
       "        text-align: right;\n",
       "    }\n",
       "</style>\n",
       "<table border=\"1\" class=\"dataframe\">\n",
       "  <thead>\n",
       "    <tr style=\"text-align: right;\">\n",
       "      <th></th>\n",
       "      <th>loss</th>\n",
       "      <th>accuracy</th>\n",
       "      <th>val_loss</th>\n",
       "      <th>val_accuracy</th>\n",
       "    </tr>\n",
       "  </thead>\n",
       "  <tbody>\n",
       "    <tr>\n",
       "      <th>0</th>\n",
       "      <td>1.133159</td>\n",
       "      <td>0.523908</td>\n",
       "      <td>0.513302</td>\n",
       "      <td>0.766667</td>\n",
       "    </tr>\n",
       "    <tr>\n",
       "      <th>1</th>\n",
       "      <td>0.606187</td>\n",
       "      <td>0.702703</td>\n",
       "      <td>0.255141</td>\n",
       "      <td>0.933333</td>\n",
       "    </tr>\n",
       "    <tr>\n",
       "      <th>2</th>\n",
       "      <td>0.442709</td>\n",
       "      <td>0.808732</td>\n",
       "      <td>0.206933</td>\n",
       "      <td>0.916667</td>\n",
       "    </tr>\n",
       "    <tr>\n",
       "      <th>3</th>\n",
       "      <td>0.344943</td>\n",
       "      <td>0.850312</td>\n",
       "      <td>0.198271</td>\n",
       "      <td>0.891667</td>\n",
       "    </tr>\n",
       "    <tr>\n",
       "      <th>4</th>\n",
       "      <td>0.271125</td>\n",
       "      <td>0.881497</td>\n",
       "      <td>0.285993</td>\n",
       "      <td>0.875000</td>\n",
       "    </tr>\n",
       "    <tr>\n",
       "      <th>5</th>\n",
       "      <td>0.177708</td>\n",
       "      <td>0.933472</td>\n",
       "      <td>0.195668</td>\n",
       "      <td>0.908333</td>\n",
       "    </tr>\n",
       "    <tr>\n",
       "      <th>6</th>\n",
       "      <td>0.155221</td>\n",
       "      <td>0.929314</td>\n",
       "      <td>0.179967</td>\n",
       "      <td>0.925000</td>\n",
       "    </tr>\n",
       "    <tr>\n",
       "      <th>7</th>\n",
       "      <td>0.161249</td>\n",
       "      <td>0.933472</td>\n",
       "      <td>0.230441</td>\n",
       "      <td>0.933333</td>\n",
       "    </tr>\n",
       "    <tr>\n",
       "      <th>8</th>\n",
       "      <td>0.144492</td>\n",
       "      <td>0.935551</td>\n",
       "      <td>0.155031</td>\n",
       "      <td>0.925000</td>\n",
       "    </tr>\n",
       "    <tr>\n",
       "      <th>9</th>\n",
       "      <td>0.145058</td>\n",
       "      <td>0.941788</td>\n",
       "      <td>0.130229</td>\n",
       "      <td>0.958333</td>\n",
       "    </tr>\n",
       "    <tr>\n",
       "      <th>10</th>\n",
       "      <td>0.108612</td>\n",
       "      <td>0.952183</td>\n",
       "      <td>0.129876</td>\n",
       "      <td>0.925000</td>\n",
       "    </tr>\n",
       "    <tr>\n",
       "      <th>11</th>\n",
       "      <td>0.072030</td>\n",
       "      <td>0.983368</td>\n",
       "      <td>0.147009</td>\n",
       "      <td>0.933333</td>\n",
       "    </tr>\n",
       "    <tr>\n",
       "      <th>12</th>\n",
       "      <td>0.049579</td>\n",
       "      <td>0.981289</td>\n",
       "      <td>0.245326</td>\n",
       "      <td>0.925000</td>\n",
       "    </tr>\n",
       "    <tr>\n",
       "      <th>13</th>\n",
       "      <td>0.225341</td>\n",
       "      <td>0.902287</td>\n",
       "      <td>0.161361</td>\n",
       "      <td>0.950000</td>\n",
       "    </tr>\n",
       "    <tr>\n",
       "      <th>14</th>\n",
       "      <td>0.136074</td>\n",
       "      <td>0.937630</td>\n",
       "      <td>0.225710</td>\n",
       "      <td>0.908333</td>\n",
       "    </tr>\n",
       "    <tr>\n",
       "      <th>15</th>\n",
       "      <td>0.103520</td>\n",
       "      <td>0.966736</td>\n",
       "      <td>0.200725</td>\n",
       "      <td>0.941667</td>\n",
       "    </tr>\n",
       "    <tr>\n",
       "      <th>16</th>\n",
       "      <td>0.166477</td>\n",
       "      <td>0.933472</td>\n",
       "      <td>0.201545</td>\n",
       "      <td>0.916667</td>\n",
       "    </tr>\n",
       "    <tr>\n",
       "      <th>17</th>\n",
       "      <td>0.081508</td>\n",
       "      <td>0.966736</td>\n",
       "      <td>0.463647</td>\n",
       "      <td>0.850000</td>\n",
       "    </tr>\n",
       "    <tr>\n",
       "      <th>18</th>\n",
       "      <td>0.061992</td>\n",
       "      <td>0.979210</td>\n",
       "      <td>0.274434</td>\n",
       "      <td>0.925000</td>\n",
       "    </tr>\n",
       "    <tr>\n",
       "      <th>19</th>\n",
       "      <td>0.047503</td>\n",
       "      <td>0.981289</td>\n",
       "      <td>0.195268</td>\n",
       "      <td>0.925000</td>\n",
       "    </tr>\n",
       "  </tbody>\n",
       "</table>\n",
       "</div>"
      ],
      "text/plain": [
       "        loss  accuracy  val_loss  val_accuracy\n",
       "0   1.133159  0.523908  0.513302      0.766667\n",
       "1   0.606187  0.702703  0.255141      0.933333\n",
       "2   0.442709  0.808732  0.206933      0.916667\n",
       "3   0.344943  0.850312  0.198271      0.891667\n",
       "4   0.271125  0.881497  0.285993      0.875000\n",
       "5   0.177708  0.933472  0.195668      0.908333\n",
       "6   0.155221  0.929314  0.179967      0.925000\n",
       "7   0.161249  0.933472  0.230441      0.933333\n",
       "8   0.144492  0.935551  0.155031      0.925000\n",
       "9   0.145058  0.941788  0.130229      0.958333\n",
       "10  0.108612  0.952183  0.129876      0.925000\n",
       "11  0.072030  0.983368  0.147009      0.933333\n",
       "12  0.049579  0.981289  0.245326      0.925000\n",
       "13  0.225341  0.902287  0.161361      0.950000\n",
       "14  0.136074  0.937630  0.225710      0.908333\n",
       "15  0.103520  0.966736  0.200725      0.941667\n",
       "16  0.166477  0.933472  0.201545      0.916667\n",
       "17  0.081508  0.966736  0.463647      0.850000\n",
       "18  0.061992  0.979210  0.274434      0.925000\n",
       "19  0.047503  0.981289  0.195268      0.925000"
      ]
     },
     "execution_count": 33,
     "metadata": {},
     "output_type": "execute_result"
    }
   ],
   "source": [
    "pd.DataFrame(hist.history)"
   ]
  },
  {
   "cell_type": "code",
   "execution_count": 34,
   "id": "7f589872",
   "metadata": {},
   "outputs": [
    {
     "data": {
      "image/png": "[encoded data removed]",
      "text/plain": [
       "<Figure size 576x360 with 1 Axes>"
      ]
     },
     "metadata": {
      "needs_background": "light"
     },
     "output_type": "display_data"
    }
   ],
   "source": [
    "pd.DataFrame(hist.history).plot(figsize=(8, 5))\n",
    "plt.grid(True)\n",
    "plt.gca().set_ylim(0, 1)\n",
    "plt.show()"
   ]
  },
  {
   "cell_type": "code",
   "execution_count": null,
   "id": "43a488bc",
   "metadata": {},
   "outputs": [],
   "source": []
  },
  {
   "cell_type": "code",
   "execution_count": null,
   "id": "9fa25a13",
   "metadata": {},
   "outputs": [],
   "source": []
  },
  {
   "cell_type": "code",
   "execution_count": null,
   "id": "50b16247",
   "metadata": {},
   "outputs": [],
   "source": []
  }
 ],
 "metadata": {
  "kernelspec": {
   "display_name": "Python 3 (ipykernel)",
   "language": "python",
   "name": "python3"
  },
  "language_info": {
   "codemirror_mode": {
    "name": "ipython",
    "version": 3
   },
   "file_extension": ".py",
   "mimetype": "text/x-python",
   "name": "python",
   "nbconvert_exporter": "python",
   "pygments_lexer": "ipython3",
   "version": "3.7.0"
  }
 },
 "nbformat": 4,
 "nbformat_minor": 5
}
