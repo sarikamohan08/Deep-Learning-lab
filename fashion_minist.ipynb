{
  "nbformat": 4,
  "nbformat_minor": 0,
  "metadata": {
    "colab": {
      "name": "ex1 fashion mnist.ipynb",
      "provenance": [],
      "collapsed_sections": [],
      "mount_file_id": "16tOdWLL1jLWtoAm3e8csCF0vqP5uLE_4",
      "authorship_tag": "ABX9TyNrtNnr9PBu+HVr/8/0Vs3T"
    },
    "kernelspec": {
      "name": "python3",
      "display_name": "Python 3"
    },
    "language_info": {
      "name": "python"
    },
    "accelerator": "GPU"
  },
  "cells": [
    {
      "cell_type": "code",
      "source": [
        "import os"
      ],
      "metadata": {
        "id": "VSHS_Zlg6_li"
      },
      "execution_count": null,
      "outputs": []
    },
    {
      "cell_type": "code",
      "source": [
        "Root='/content/drive/MyDrive/Deep Learning 19MAM65'\n",
        "os.chdir(Root)"
      ],
      "metadata": {
        "id": "Ivu9pwSS625-"
      },
      "execution_count": null,
      "outputs": []
    },
    {
      "cell_type": "code",
      "source": [
        "pwd"
      ],
      "metadata": {
        "colab": {
          "base_uri": "https://localhost:8080/",
          "height": 35
        },
        "id": "BrxKkLM47G-y",
        "outputId": "32068117-d327-4990-eb3d-86f8b6fd5754"
      },
      "execution_count": null,
      "outputs": [
        {
          "output_type": "execute_result",
          "data": {
            "application/vnd.google.colaboratory.intrinsic+json": {
              "type": "string"
            },
            "text/plain": [
              "'/content/drive/MyDrive/Deep Learning 19MAM65'"
            ]
          },
          "metadata": {},
          "execution_count": 3
        }
      ]
    },
    {
      "cell_type": "markdown",
      "source": [
        "importing the libraries"
      ],
      "metadata": {
        "id": "1sWdtAhdFoCv"
      }
    },
    {
      "cell_type": "code",
      "source": [
        "!pip install -q keras\n",
        "import keras"
      ],
      "metadata": {
        "id": "qTwdWUa4KoTB"
      },
      "execution_count": null,
      "outputs": []
    },
    {
      "cell_type": "code",
      "source": [
        "!pip install keras "
      ],
      "metadata": {
        "colab": {
          "base_uri": "https://localhost:8080/"
        },
        "id": "MO0r-6sbL1FL",
        "outputId": "f981ad0f-d58d-4139-941b-172d335b5736"
      },
      "execution_count": null,
      "outputs": [
        {
          "output_type": "stream",
          "name": "stdout",
          "text": [
            "Requirement already satisfied: keras in /usr/local/lib/python3.7/dist-packages (2.8.0)\n"
          ]
        }
      ]
    },
    {
      "cell_type": "code",
      "source": [
        "!pip install np_utils"
      ],
      "metadata": {
        "colab": {
          "base_uri": "https://localhost:8080/"
        },
        "id": "ZsuR4AgZLb1e",
        "outputId": "55c62e13-8e52-41f8-bb89-de8af39fb733"
      },
      "execution_count": null,
      "outputs": [
        {
          "output_type": "stream",
          "name": "stdout",
          "text": [
            "Collecting np_utils\n",
            "  Downloading np_utils-0.6.0.tar.gz (61 kB)\n",
            "\u001b[?25l\r\u001b[K     |█████▎                          | 10 kB 19.5 MB/s eta 0:00:01\r\u001b[K     |██████████▋                     | 20 kB 11.0 MB/s eta 0:00:01\r\u001b[K     |███████████████▉                | 30 kB 8.3 MB/s eta 0:00:01\r\u001b[K     |█████████████████████▏          | 40 kB 3.7 MB/s eta 0:00:01\r\u001b[K     |██████████████████████████▍     | 51 kB 4.2 MB/s eta 0:00:01\r\u001b[K     |███████████████████████████████▊| 61 kB 4.5 MB/s eta 0:00:01\r\u001b[K     |████████████████████████████████| 61 kB 548 kB/s \n",
            "\u001b[?25hRequirement already satisfied: numpy>=1.0 in /usr/local/lib/python3.7/dist-packages (from np_utils) (1.21.5)\n",
            "Building wheels for collected packages: np-utils\n",
            "  Building wheel for np-utils (setup.py) ... \u001b[?25l\u001b[?25hdone\n",
            "  Created wheel for np-utils: filename=np_utils-0.6.0-py3-none-any.whl size=56459 sha256=f5370126bc4c86a04cf2427bd916b6a5cf6c339927702ce23b91f733c9b9d186\n",
            "  Stored in directory: /root/.cache/pip/wheels/d2/83/71/a781667865955ae7dc18e5a4038401deb56d96eb85d3a5f1c0\n",
            "Successfully built np-utils\n",
            "Installing collected packages: np-utils\n",
            "Successfully installed np-utils-0.6.0\n"
          ]
        }
      ]
    },
    {
      "cell_type": "code",
      "execution_count": null,
      "metadata": {
        "id": "g5a38-0hD3O_"
      },
      "outputs": [],
      "source": [
        "import os\n",
        "import tensorflow as tf\n",
        "import numpy as np\n",
        "import matplotlib.pyplot as plt\n",
        "import seaborn as sns\n",
        "plt.style.use(\"fivethirtyeight\")\n",
        "%load_ext tensorboard"
      ]
    },
    {
      "cell_type": "code",
      "source": [
        "# importing sequential model from keras.models\n",
        "from tensorflow.keras.models import Sequential\n",
        "# importing different layers and activations from keras.layers\n",
        "from tensorflow.keras.layers import Dense, Dropout, Activation, Add\n",
        "from tensorflow.keras.utils import to_categorical\n",
        "from keras.utils.np_utils import to_categorical\n",
        "from keras.models import load_model"
      ],
      "metadata": {
        "id": "OZPSAXY4K_GB"
      },
      "execution_count": null,
      "outputs": []
    },
    {
      "cell_type": "markdown",
      "source": [
        "loading the dataset"
      ],
      "metadata": {
        "id": "E42RVr-4FtEM"
      }
    },
    {
      "cell_type": "code",
      "source": [
        "(X_train_full, y_train_full), (X_test, y_test) = tf.keras.datasets.fashion_mnist.load_data()"
      ],
      "metadata": {
        "id": "XxoldGMEFnDK",
        "colab": {
          "base_uri": "https://localhost:8080/"
        },
        "outputId": "480dd369-7c14-4996-e5da-7baff8a9fa4a"
      },
      "execution_count": null,
      "outputs": [
        {
          "output_type": "stream",
          "name": "stdout",
          "text": [
            "Downloading data from https://storage.googleapis.com/tensorflow/tf-keras-datasets/train-labels-idx1-ubyte.gz\n",
            "32768/29515 [=================================] - 0s 0us/step\n",
            "40960/29515 [=========================================] - 0s 0us/step\n",
            "Downloading data from https://storage.googleapis.com/tensorflow/tf-keras-datasets/train-images-idx3-ubyte.gz\n",
            "26427392/26421880 [==============================] - 1s 0us/step\n",
            "26435584/26421880 [==============================] - 1s 0us/step\n",
            "Downloading data from https://storage.googleapis.com/tensorflow/tf-keras-datasets/t10k-labels-idx1-ubyte.gz\n",
            "16384/5148 [===============================================================================================] - 0s 0us/step\n",
            "Downloading data from https://storage.googleapis.com/tensorflow/tf-keras-datasets/t10k-images-idx3-ubyte.gz\n",
            "4423680/4422102 [==============================] - 0s 0us/step\n",
            "4431872/4422102 [==============================] - 0s 0us/step\n"
          ]
        }
      ]
    },
    {
      "cell_type": "code",
      "source": [
        "print(f\"data type of X_train_full: {X_train_full.dtype},\\nshape of X_train_full: {X_train_full.shape}\")"
      ],
      "metadata": {
        "colab": {
          "base_uri": "https://localhost:8080/"
        },
        "id": "pXt6yPI_wT2m",
        "outputId": "a2822e82-f954-46bc-818a-3b8478de7a5b"
      },
      "execution_count": null,
      "outputs": [
        {
          "output_type": "stream",
          "name": "stdout",
          "text": [
            "data type of X_train_full: uint8,\n",
            "shape of X_train_full: (60000, 28, 28)\n"
          ]
        }
      ]
    },
    {
      "cell_type": "markdown",
      "source": [
        "Preprocessing"
      ],
      "metadata": {
        "id": "X7uAdQWL-KSh"
      }
    },
    {
      "cell_type": "code",
      "source": [
        "# create a validation data set from the full training data \n",
        "# Scale the data between 0 to 1 by dividing it by 255. as its an unsigned data between 0-255 range\n",
        "X_valid, X_train = X_train_full[:5000] / 255., X_train_full[5000:] / 255.\n",
        "y_valid, y_train = y_train_full[:5000], y_train_full[5000:]\n",
        "\n",
        "# scale the test set as well\n",
        "X_test = X_test / 255."
      ],
      "metadata": {
        "id": "u82g7-m-wXiu"
      },
      "execution_count": null,
      "outputs": []
    },
    {
      "cell_type": "markdown",
      "source": [
        "studying the feature"
      ],
      "metadata": {
        "id": "C94R1i82Hmt6"
      }
    },
    {
      "cell_type": "code",
      "source": [
        "X_train_full.shape"
      ],
      "metadata": {
        "colab": {
          "base_uri": "https://localhost:8080/"
        },
        "id": "O-RSaLSwHQcw",
        "outputId": "07fab57e-3d54-4bca-ea12-c0a79ede9293"
      },
      "execution_count": null,
      "outputs": [
        {
          "output_type": "execute_result",
          "data": {
            "text/plain": [
              "(60000, 28, 28)"
            ]
          },
          "metadata": {},
          "execution_count": 12
        }
      ]
    },
    {
      "cell_type": "markdown",
      "source": [
        "visualization"
      ],
      "metadata": {
        "id": "OTJ-SWuUJ66y"
      }
    },
    {
      "cell_type": "code",
      "source": [
        "from matplotlib import pyplot as plt\n",
        "%matplotlib inline\n",
        "# plotting the first image or the image at index zero in the training dataset\n",
        "plt.imshow(X_train_full[0])"
      ],
      "metadata": {
        "colab": {
          "base_uri": "https://localhost:8080/",
          "height": 279
        },
        "id": "VcJMm-6UJAkS",
        "outputId": "5652262b-7f0b-4659-ec52-8fd06ea805a1"
      },
      "execution_count": null,
      "outputs": [
        {
          "output_type": "execute_result",
          "data": {
            "text/plain": [
              "<matplotlib.image.AxesImage at 0x7ff51fde1a10>"
            ]
          },
          "metadata": {},
          "execution_count": 13
        },
        {
          "output_type": "display_data",
          "data": {
            "image/png": "[encoded data removed]",
            "text/plain": [
              "<Figure size 432x288 with 1 Axes>"
            ]
          },
          "metadata": {
            "needs_background": "light"
          }
        }
      ]
    },
    {
      "cell_type": "code",
      "source": [
        "#Reshaping our training and testing datatset using numpy's reshape function which we will feed to the model\n",
        "#X_train = X_train_full.reshape(X_train_full.shape[0], 28, 28,1)\n",
        "#X_test = X_test.reshape(X_test.shape[0], 28, 28,1)"
      ],
      "metadata": {
        "id": "Ad6Z71GDJKZr"
      },
      "execution_count": null,
      "outputs": []
    },
    {
      "cell_type": "code",
      "source": [
        "X_train.shape"
      ],
      "metadata": {
        "colab": {
          "base_uri": "https://localhost:8080/"
        },
        "id": "VCm0N87xVEto",
        "outputId": "6061e03d-3956-4e32-a721-3eefdba21d94"
      },
      "execution_count": null,
      "outputs": [
        {
          "output_type": "execute_result",
          "data": {
            "text/plain": [
              "(55000, 28, 28)"
            ]
          },
          "metadata": {},
          "execution_count": 14
        }
      ]
    },
    {
      "cell_type": "code",
      "source": [
        "#Checking first 10 image labels\n",
        "y_train_full[:10]"
      ],
      "metadata": {
        "colab": {
          "base_uri": "https://localhost:8080/"
        },
        "id": "8yHPit7KKVG2",
        "outputId": "f5ffdca2-7f72-409a-bf5c-2f5a50ecd41b"
      },
      "execution_count": null,
      "outputs": [
        {
          "output_type": "execute_result",
          "data": {
            "text/plain": [
              "array([9, 0, 0, 3, 0, 2, 7, 2, 5, 5], dtype=uint8)"
            ]
          },
          "metadata": {},
          "execution_count": 12
        }
      ]
    },
    {
      "cell_type": "markdown",
      "source": [
        "Neural network Architecture"
      ],
      "metadata": {
        "id": "-MvCNxNR4Dos"
      }
    },
    {
      "cell_type": "code",
      "source": [
        "LAYERS = [\n",
        "         tf.keras.layers.Flatten(input_shape=[28, 28]),\n",
        "         tf.keras.layers.Dense(30, activation=\"relu\"),\n",
        "         tf.keras.layers.Dense(25, activation=\"relu\"),\n",
        "         tf.keras.layers.Dense(20, activation=\"relu\"),\n",
        "         tf.keras.layers.Dense(10,activation=\"softmax\")\n",
        "\n",
        "]"
      ],
      "metadata": {
        "id": "24P7tIPWF3yT"
      },
      "execution_count": null,
      "outputs": []
    },
    {
      "cell_type": "code",
      "source": [
        "model = tf.keras.models.Sequential(LAYERS)"
      ],
      "metadata": {
        "id": "owzxBnSoMzoQ"
      },
      "execution_count": null,
      "outputs": []
    },
    {
      "cell_type": "code",
      "source": [
        "LOSS_FUNCTION = \"sparse_categorical_crossentropy\" # use => tf.losses.sparse_categorical_crossentropy\n",
        "OPTIMIZER = \"SGD\" # or use with custom learning rate=> tf.keras.optimizers.SGD(0.02)\n",
        "METRICS = [\"accuracy\"]\n",
        "\n",
        "model.compile(loss=LOSS_FUNCTION,\n",
        "              optimizer=OPTIMIZER,\n",
        "              metrics=METRICS)\n"
      ],
      "metadata": {
        "id": "qECjwOAswsDO"
      },
      "execution_count": null,
      "outputs": []
    },
    {
      "cell_type": "code",
      "source": [
        "model.summary()"
      ],
      "metadata": {
        "colab": {
          "base_uri": "https://localhost:8080/"
        },
        "id": "j68Wpu2wM7aW",
        "outputId": "18b01991-329f-4dc5-a8f6-84f1645b690a"
      },
      "execution_count": null,
      "outputs": [
        {
          "output_type": "stream",
          "name": "stdout",
          "text": [
            "Model: \"sequential_2\"\n",
            "_________________________________________________________________\n",
            " Layer (type)                Output Shape              Param #   \n",
            "=================================================================\n",
            " flatten_3 (Flatten)         (None, 784)               0         \n",
            "                                                                 \n",
            " dense_12 (Dense)            (None, 30)                23550     \n",
            "                                                                 \n",
            " dense_13 (Dense)            (None, 25)                775       \n",
            "                                                                 \n",
            " dense_14 (Dense)            (None, 20)                520       \n",
            "                                                                 \n",
            " dense_15 (Dense)            (None, 10)                210       \n",
            "                                                                 \n",
            "=================================================================\n",
            "Total params: 25,055\n",
            "Trainable params: 25,055\n",
            "Non-trainable params: 0\n",
            "_________________________________________________________________\n"
          ]
        }
      ]
    },
    {
      "cell_type": "code",
      "source": [
        "EPOCHS = 30\n",
        "VALIDATION_SET = (X_valid, y_valid)\n",
        "\n",
        "history = model.fit(X_train, y_train, epochs=EPOCHS,\n",
        "                    validation_data=VALIDATION_SET)"
      ],
      "metadata": {
        "id": "Bw1e-fD-OlqN",
        "colab": {
          "base_uri": "https://localhost:8080/"
        },
        "outputId": "eb5a3290-8317-4b12-fb4d-f665639b69ef"
      },
      "execution_count": null,
      "outputs": [
        {
          "output_type": "stream",
          "name": "stdout",
          "text": [
            "Epoch 1/30\n",
            "1719/1719 [==============================] - 8s 3ms/step - loss: 0.9332 - accuracy: 0.6755 - val_loss: 0.5631 - val_accuracy: 0.8044\n",
            "Epoch 2/30\n",
            "1719/1719 [==============================] - 6s 3ms/step - loss: 0.5449 - accuracy: 0.8079 - val_loss: 0.4914 - val_accuracy: 0.8306\n",
            "Epoch 3/30\n",
            "1719/1719 [==============================] - 6s 3ms/step - loss: 0.4882 - accuracy: 0.8289 - val_loss: 0.4703 - val_accuracy: 0.8320\n",
            "Epoch 4/30\n",
            "1719/1719 [==============================] - 6s 3ms/step - loss: 0.4571 - accuracy: 0.8384 - val_loss: 0.4244 - val_accuracy: 0.8538\n",
            "Epoch 5/30\n",
            "1719/1719 [==============================] - 6s 3ms/step - loss: 0.4355 - accuracy: 0.8468 - val_loss: 0.4241 - val_accuracy: 0.8486\n",
            "Epoch 6/30\n",
            "1719/1719 [==============================] - 6s 3ms/step - loss: 0.4187 - accuracy: 0.8525 - val_loss: 0.4234 - val_accuracy: 0.8486\n",
            "Epoch 7/30\n",
            "1719/1719 [==============================] - 6s 3ms/step - loss: 0.4029 - accuracy: 0.8586 - val_loss: 0.4045 - val_accuracy: 0.8534\n",
            "Epoch 8/30\n",
            "1719/1719 [==============================] - 6s 3ms/step - loss: 0.3924 - accuracy: 0.8613 - val_loss: 0.4278 - val_accuracy: 0.8422\n",
            "Epoch 9/30\n",
            "1719/1719 [==============================] - 6s 3ms/step - loss: 0.3818 - accuracy: 0.8645 - val_loss: 0.3998 - val_accuracy: 0.8598\n",
            "Epoch 10/30\n",
            "1719/1719 [==============================] - 6s 3ms/step - loss: 0.3729 - accuracy: 0.8668 - val_loss: 0.4018 - val_accuracy: 0.8504\n",
            "Epoch 11/30\n",
            "1719/1719 [==============================] - 6s 4ms/step - loss: 0.3652 - accuracy: 0.8699 - val_loss: 0.3772 - val_accuracy: 0.8668\n",
            "Epoch 12/30\n",
            "1719/1719 [==============================] - 6s 4ms/step - loss: 0.3577 - accuracy: 0.8717 - val_loss: 0.3842 - val_accuracy: 0.8688\n",
            "Epoch 13/30\n",
            "1719/1719 [==============================] - 6s 3ms/step - loss: 0.3511 - accuracy: 0.8753 - val_loss: 0.3684 - val_accuracy: 0.8688\n",
            "Epoch 14/30\n",
            "1719/1719 [==============================] - 6s 4ms/step - loss: 0.3455 - accuracy: 0.8765 - val_loss: 0.3919 - val_accuracy: 0.8614\n",
            "Epoch 15/30\n",
            "1719/1719 [==============================] - 6s 4ms/step - loss: 0.3394 - accuracy: 0.8776 - val_loss: 0.3638 - val_accuracy: 0.8724\n",
            "Epoch 16/30\n",
            "1719/1719 [==============================] - 6s 4ms/step - loss: 0.3344 - accuracy: 0.8789 - val_loss: 0.3660 - val_accuracy: 0.8702\n",
            "Epoch 17/30\n",
            "1719/1719 [==============================] - 6s 4ms/step - loss: 0.3293 - accuracy: 0.8814 - val_loss: 0.3675 - val_accuracy: 0.8666\n",
            "Epoch 18/30\n",
            "1719/1719 [==============================] - 6s 4ms/step - loss: 0.3248 - accuracy: 0.8824 - val_loss: 0.3749 - val_accuracy: 0.8670\n",
            "Epoch 19/30\n",
            "1719/1719 [==============================] - 6s 4ms/step - loss: 0.3203 - accuracy: 0.8849 - val_loss: 0.3425 - val_accuracy: 0.8784\n",
            "Epoch 20/30\n",
            "1719/1719 [==============================] - 6s 3ms/step - loss: 0.3169 - accuracy: 0.8850 - val_loss: 0.3492 - val_accuracy: 0.8738\n",
            "Epoch 21/30\n",
            "1719/1719 [==============================] - 6s 3ms/step - loss: 0.3133 - accuracy: 0.8872 - val_loss: 0.3476 - val_accuracy: 0.8732\n",
            "Epoch 22/30\n",
            "1719/1719 [==============================] - 6s 4ms/step - loss: 0.3089 - accuracy: 0.8879 - val_loss: 0.3472 - val_accuracy: 0.8758\n",
            "Epoch 23/30\n",
            "1719/1719 [==============================] - 6s 3ms/step - loss: 0.3058 - accuracy: 0.8894 - val_loss: 0.3530 - val_accuracy: 0.8716\n",
            "Epoch 24/30\n",
            "1719/1719 [==============================] - 6s 3ms/step - loss: 0.3023 - accuracy: 0.8912 - val_loss: 0.3688 - val_accuracy: 0.8646\n",
            "Epoch 25/30\n",
            "1719/1719 [==============================] - 6s 4ms/step - loss: 0.2993 - accuracy: 0.8907 - val_loss: 0.3440 - val_accuracy: 0.8740\n",
            "Epoch 26/30\n",
            "1719/1719 [==============================] - 6s 3ms/step - loss: 0.2960 - accuracy: 0.8924 - val_loss: 0.3615 - val_accuracy: 0.8722\n",
            "Epoch 27/30\n",
            "1719/1719 [==============================] - 6s 3ms/step - loss: 0.2917 - accuracy: 0.8941 - val_loss: 0.3456 - val_accuracy: 0.8752\n",
            "Epoch 28/30\n",
            "1719/1719 [==============================] - 6s 3ms/step - loss: 0.2899 - accuracy: 0.8945 - val_loss: 0.3437 - val_accuracy: 0.8768\n",
            "Epoch 29/30\n",
            "1719/1719 [==============================] - 6s 3ms/step - loss: 0.2862 - accuracy: 0.8960 - val_loss: 0.3488 - val_accuracy: 0.8770\n",
            "Epoch 30/30\n",
            "1719/1719 [==============================] - 6s 3ms/step - loss: 0.2847 - accuracy: 0.8963 - val_loss: 0.3438 - val_accuracy: 0.8798\n"
          ]
        }
      ]
    },
    {
      "cell_type": "code",
      "source": [
        "import time\n",
        "import os\n",
        "\n",
        "def saveModel_path(model_dir=\"SAVED_MODELS_fashion_minist\"):\n",
        "    os.makedirs(model_dir, exist_ok=True)\n",
        "    fileName = time.strftime(\"Model_%Y_%m_%d_%H_%M_%S_.h5\")    \n",
        "    model_path = os.path.join(model_dir, fileName)\n",
        "    print(f\"your model will be saved at the following location\\n{model_path}\")\n",
        "    return model_path"
      ],
      "metadata": {
        "id": "wbQgBgvWvXA2"
      },
      "execution_count": null,
      "outputs": []
    },
    {
      "cell_type": "code",
      "source": [
        "UNIQUE_PATH = model.save(saveModel_path())"
      ],
      "metadata": {
        "colab": {
          "base_uri": "https://localhost:8080/"
        },
        "id": "Akwl7K17zcFq",
        "outputId": "5dca0a0d-b93d-4ed8-ab17-99f0913c1e6b"
      },
      "execution_count": null,
      "outputs": [
        {
          "output_type": "stream",
          "name": "stdout",
          "text": [
            "your model will be saved at the following location\n",
            "SAVED_MODELS_fashion_minist/Model_2022_03_01_14_40_20_.h5\n"
          ]
        }
      ]
    },
    {
      "cell_type": "code",
      "source": [
        "history.params"
      ],
      "metadata": {
        "colab": {
          "base_uri": "https://localhost:8080/"
        },
        "id": "GgaTd2JXzjKW",
        "outputId": "434d5c76-0333-40bf-f01c-24b502cce8db"
      },
      "execution_count": null,
      "outputs": [
        {
          "output_type": "execute_result",
          "data": {
            "text/plain": [
              "{'epochs': 30, 'steps': 1719, 'verbose': 1}"
            ]
          },
          "metadata": {},
          "execution_count": 45
        }
      ]
    },
    {
      "cell_type": "code",
      "source": [
        "import pandas as pd"
      ],
      "metadata": {
        "id": "nUNJJeewzqfZ"
      },
      "execution_count": null,
      "outputs": []
    },
    {
      "cell_type": "code",
      "source": [
        "pd.DataFrame(history.history)"
      ],
      "metadata": {
        "colab": {
          "base_uri": "https://localhost:8080/",
          "height": 990
        },
        "id": "DsKivkiLzmbp",
        "outputId": "2de734fa-12df-42a9-d3dc-c19ebca0e2a9"
      },
      "execution_count": null,
      "outputs": [
        {
          "output_type": "execute_result",
          "data": {
            "text/html": [
              "\n",
              "  <div id=\"df-80a4851b-7ead-4a73-927c-a9cb43c73dc3\">\n",
              "    <div class=\"colab-df-container\">\n",
              "      <div>\n",
              "<style scoped>\n",
              "    .dataframe tbody tr th:only-of-type {\n",
              "        vertical-align: middle;\n",
              "    }\n",
              "\n",
              "    .dataframe tbody tr th {\n",
              "        vertical-align: top;\n",
              "    }\n",
              "\n",
              "    .dataframe thead th {\n",
              "        text-align: right;\n",
              "    }\n",
              "</style>\n",
              "<table border=\"1\" class=\"dataframe\">\n",
              "  <thead>\n",
              "    <tr style=\"text-align: right;\">\n",
              "      <th></th>\n",
              "      <th>loss</th>\n",
              "      <th>accuracy</th>\n",
              "      <th>val_loss</th>\n",
              "      <th>val_accuracy</th>\n",
              "    </tr>\n",
              "  </thead>\n",
              "  <tbody>\n",
              "    <tr>\n",
              "      <th>0</th>\n",
              "      <td>0.933246</td>\n",
              "      <td>0.675473</td>\n",
              "      <td>0.563051</td>\n",
              "      <td>0.8044</td>\n",
              "    </tr>\n",
              "    <tr>\n",
              "      <th>1</th>\n",
              "      <td>0.544910</td>\n",
              "      <td>0.807909</td>\n",
              "      <td>0.491358</td>\n",
              "      <td>0.8306</td>\n",
              "    </tr>\n",
              "    <tr>\n",
              "      <th>2</th>\n",
              "      <td>0.488245</td>\n",
              "      <td>0.828945</td>\n",
              "      <td>0.470304</td>\n",
              "      <td>0.8320</td>\n",
              "    </tr>\n",
              "    <tr>\n",
              "      <th>3</th>\n",
              "      <td>0.457124</td>\n",
              "      <td>0.838382</td>\n",
              "      <td>0.424441</td>\n",
              "      <td>0.8538</td>\n",
              "    </tr>\n",
              "    <tr>\n",
              "      <th>4</th>\n",
              "      <td>0.435522</td>\n",
              "      <td>0.846800</td>\n",
              "      <td>0.424082</td>\n",
              "      <td>0.8486</td>\n",
              "    </tr>\n",
              "    <tr>\n",
              "      <th>5</th>\n",
              "      <td>0.418749</td>\n",
              "      <td>0.852527</td>\n",
              "      <td>0.423401</td>\n",
              "      <td>0.8486</td>\n",
              "    </tr>\n",
              "    <tr>\n",
              "      <th>6</th>\n",
              "      <td>0.402944</td>\n",
              "      <td>0.858582</td>\n",
              "      <td>0.404506</td>\n",
              "      <td>0.8534</td>\n",
              "    </tr>\n",
              "    <tr>\n",
              "      <th>7</th>\n",
              "      <td>0.392439</td>\n",
              "      <td>0.861327</td>\n",
              "      <td>0.427829</td>\n",
              "      <td>0.8422</td>\n",
              "    </tr>\n",
              "    <tr>\n",
              "      <th>8</th>\n",
              "      <td>0.381776</td>\n",
              "      <td>0.864455</td>\n",
              "      <td>0.399810</td>\n",
              "      <td>0.8598</td>\n",
              "    </tr>\n",
              "    <tr>\n",
              "      <th>9</th>\n",
              "      <td>0.372911</td>\n",
              "      <td>0.866782</td>\n",
              "      <td>0.401754</td>\n",
              "      <td>0.8504</td>\n",
              "    </tr>\n",
              "    <tr>\n",
              "      <th>10</th>\n",
              "      <td>0.365193</td>\n",
              "      <td>0.869873</td>\n",
              "      <td>0.377189</td>\n",
              "      <td>0.8668</td>\n",
              "    </tr>\n",
              "    <tr>\n",
              "      <th>11</th>\n",
              "      <td>0.357659</td>\n",
              "      <td>0.871691</td>\n",
              "      <td>0.384249</td>\n",
              "      <td>0.8688</td>\n",
              "    </tr>\n",
              "    <tr>\n",
              "      <th>12</th>\n",
              "      <td>0.351138</td>\n",
              "      <td>0.875345</td>\n",
              "      <td>0.368380</td>\n",
              "      <td>0.8688</td>\n",
              "    </tr>\n",
              "    <tr>\n",
              "      <th>13</th>\n",
              "      <td>0.345482</td>\n",
              "      <td>0.876455</td>\n",
              "      <td>0.391870</td>\n",
              "      <td>0.8614</td>\n",
              "    </tr>\n",
              "    <tr>\n",
              "      <th>14</th>\n",
              "      <td>0.339443</td>\n",
              "      <td>0.877600</td>\n",
              "      <td>0.363841</td>\n",
              "      <td>0.8724</td>\n",
              "    </tr>\n",
              "    <tr>\n",
              "      <th>15</th>\n",
              "      <td>0.334394</td>\n",
              "      <td>0.878909</td>\n",
              "      <td>0.366048</td>\n",
              "      <td>0.8702</td>\n",
              "    </tr>\n",
              "    <tr>\n",
              "      <th>16</th>\n",
              "      <td>0.329325</td>\n",
              "      <td>0.881364</td>\n",
              "      <td>0.367494</td>\n",
              "      <td>0.8666</td>\n",
              "    </tr>\n",
              "    <tr>\n",
              "      <th>17</th>\n",
              "      <td>0.324786</td>\n",
              "      <td>0.882418</td>\n",
              "      <td>0.374867</td>\n",
              "      <td>0.8670</td>\n",
              "    </tr>\n",
              "    <tr>\n",
              "      <th>18</th>\n",
              "      <td>0.320312</td>\n",
              "      <td>0.884873</td>\n",
              "      <td>0.342484</td>\n",
              "      <td>0.8784</td>\n",
              "    </tr>\n",
              "    <tr>\n",
              "      <th>19</th>\n",
              "      <td>0.316858</td>\n",
              "      <td>0.884964</td>\n",
              "      <td>0.349210</td>\n",
              "      <td>0.8738</td>\n",
              "    </tr>\n",
              "    <tr>\n",
              "      <th>20</th>\n",
              "      <td>0.313263</td>\n",
              "      <td>0.887164</td>\n",
              "      <td>0.347590</td>\n",
              "      <td>0.8732</td>\n",
              "    </tr>\n",
              "    <tr>\n",
              "      <th>21</th>\n",
              "      <td>0.308899</td>\n",
              "      <td>0.887873</td>\n",
              "      <td>0.347191</td>\n",
              "      <td>0.8758</td>\n",
              "    </tr>\n",
              "    <tr>\n",
              "      <th>22</th>\n",
              "      <td>0.305755</td>\n",
              "      <td>0.889400</td>\n",
              "      <td>0.353008</td>\n",
              "      <td>0.8716</td>\n",
              "    </tr>\n",
              "    <tr>\n",
              "      <th>23</th>\n",
              "      <td>0.302291</td>\n",
              "      <td>0.891218</td>\n",
              "      <td>0.368817</td>\n",
              "      <td>0.8646</td>\n",
              "    </tr>\n",
              "    <tr>\n",
              "      <th>24</th>\n",
              "      <td>0.299323</td>\n",
              "      <td>0.890655</td>\n",
              "      <td>0.343950</td>\n",
              "      <td>0.8740</td>\n",
              "    </tr>\n",
              "    <tr>\n",
              "      <th>25</th>\n",
              "      <td>0.295957</td>\n",
              "      <td>0.892364</td>\n",
              "      <td>0.361523</td>\n",
              "      <td>0.8722</td>\n",
              "    </tr>\n",
              "    <tr>\n",
              "      <th>26</th>\n",
              "      <td>0.291731</td>\n",
              "      <td>0.894073</td>\n",
              "      <td>0.345620</td>\n",
              "      <td>0.8752</td>\n",
              "    </tr>\n",
              "    <tr>\n",
              "      <th>27</th>\n",
              "      <td>0.289857</td>\n",
              "      <td>0.894545</td>\n",
              "      <td>0.343686</td>\n",
              "      <td>0.8768</td>\n",
              "    </tr>\n",
              "    <tr>\n",
              "      <th>28</th>\n",
              "      <td>0.286200</td>\n",
              "      <td>0.896018</td>\n",
              "      <td>0.348845</td>\n",
              "      <td>0.8770</td>\n",
              "    </tr>\n",
              "    <tr>\n",
              "      <th>29</th>\n",
              "      <td>0.284672</td>\n",
              "      <td>0.896255</td>\n",
              "      <td>0.343772</td>\n",
              "      <td>0.8798</td>\n",
              "    </tr>\n",
              "  </tbody>\n",
              "</table>\n",
              "</div>\n",
              "      <button class=\"colab-df-convert\" onclick=\"convertToInteractive('df-80a4851b-7ead-4a73-927c-a9cb43c73dc3')\"\n",
              "              title=\"Convert this dataframe to an interactive table.\"\n",
              "              style=\"display:none;\">\n",
              "        \n",
              "  <svg xmlns=\"http://www.w3.org/2000/svg\" height=\"24px\"viewBox=\"0 0 24 24\"\n",
              "       width=\"24px\">\n",
              "    <path d=\"M0 0h24v24H0V0z\" fill=\"none\"/>\n",
              "    <path d=\"M18.56 5.44l.94 2.06.94-2.06 2.06-.94-2.06-.94-.94-2.06-.94 2.06-2.06.94zm-11 1L8.5 8.5l.94-2.06 2.06-.94-2.06-.94L8.5 2.5l-.94 2.06-2.06.94zm10 10l.94 2.06.94-2.06 2.06-.94-2.06-.94-.94-2.06-.94 2.06-2.06.94z\"/><path d=\"M17.41 7.96l-1.37-1.37c-.4-.4-.92-.59-1.43-.59-.52 0-1.04.2-1.43.59L10.3 9.45l-7.72 7.72c-.78.78-.78 2.05 0 2.83L4 21.41c.39.39.9.59 1.41.59.51 0 1.02-.2 1.41-.59l7.78-7.78 2.81-2.81c.8-.78.8-2.07 0-2.86zM5.41 20L4 18.59l7.72-7.72 1.47 1.35L5.41 20z\"/>\n",
              "  </svg>\n",
              "      </button>\n",
              "      \n",
              "  <style>\n",
              "    .colab-df-container {\n",
              "      display:flex;\n",
              "      flex-wrap:wrap;\n",
              "      gap: 12px;\n",
              "    }\n",
              "\n",
              "    .colab-df-convert {\n",
              "      background-color: #E8F0FE;\n",
              "      border: none;\n",
              "      border-radius: 50%;\n",
              "      cursor: pointer;\n",
              "      display: none;\n",
              "      fill: #1967D2;\n",
              "      height: 32px;\n",
              "      padding: 0 0 0 0;\n",
              "      width: 32px;\n",
              "    }\n",
              "\n",
              "    .colab-df-convert:hover {\n",
              "      background-color: #E2EBFA;\n",
              "      box-shadow: 0px 1px 2px rgba(60, 64, 67, 0.3), 0px 1px 3px 1px rgba(60, 64, 67, 0.15);\n",
              "      fill: #174EA6;\n",
              "    }\n",
              "\n",
              "    [theme=dark] .colab-df-convert {\n",
              "      background-color: #3B4455;\n",
              "      fill: #D2E3FC;\n",
              "    }\n",
              "\n",
              "    [theme=dark] .colab-df-convert:hover {\n",
              "      background-color: #434B5C;\n",
              "      box-shadow: 0px 1px 3px 1px rgba(0, 0, 0, 0.15);\n",
              "      filter: drop-shadow(0px 1px 2px rgba(0, 0, 0, 0.3));\n",
              "      fill: #FFFFFF;\n",
              "    }\n",
              "  </style>\n",
              "\n",
              "      <script>\n",
              "        const buttonEl =\n",
              "          document.querySelector('#df-80a4851b-7ead-4a73-927c-a9cb43c73dc3 button.colab-df-convert');\n",
              "        buttonEl.style.display =\n",
              "          google.colab.kernel.accessAllowed ? 'block' : 'none';\n",
              "\n",
              "        async function convertToInteractive(key) {\n",
              "          const element = document.querySelector('#df-80a4851b-7ead-4a73-927c-a9cb43c73dc3');\n",
              "          const dataTable =\n",
              "            await google.colab.kernel.invokeFunction('convertToInteractive',\n",
              "                                                     [key], {});\n",
              "          if (!dataTable) return;\n",
              "\n",
              "          const docLinkHtml = 'Like what you see? Visit the ' +\n",
              "            '<a target=\"_blank\" href=https://colab.research.google.com/notebooks/data_table.ipynb>data table notebook</a>'\n",
              "            + ' to learn more about interactive tables.';\n",
              "          element.innerHTML = '';\n",
              "          dataTable['output_type'] = 'display_data';\n",
              "          await google.colab.output.renderOutput(dataTable, element);\n",
              "          const docLink = document.createElement('div');\n",
              "          docLink.innerHTML = docLinkHtml;\n",
              "          element.appendChild(docLink);\n",
              "        }\n",
              "      </script>\n",
              "    </div>\n",
              "  </div>\n",
              "  "
            ],
            "text/plain": [
              "        loss  accuracy  val_loss  val_accuracy\n",
              "0   0.933246  0.675473  0.563051        0.8044\n",
              "1   0.544910  0.807909  0.491358        0.8306\n",
              "2   0.488245  0.828945  0.470304        0.8320\n",
              "3   0.457124  0.838382  0.424441        0.8538\n",
              "4   0.435522  0.846800  0.424082        0.8486\n",
              "5   0.418749  0.852527  0.423401        0.8486\n",
              "6   0.402944  0.858582  0.404506        0.8534\n",
              "7   0.392439  0.861327  0.427829        0.8422\n",
              "8   0.381776  0.864455  0.399810        0.8598\n",
              "9   0.372911  0.866782  0.401754        0.8504\n",
              "10  0.365193  0.869873  0.377189        0.8668\n",
              "11  0.357659  0.871691  0.384249        0.8688\n",
              "12  0.351138  0.875345  0.368380        0.8688\n",
              "13  0.345482  0.876455  0.391870        0.8614\n",
              "14  0.339443  0.877600  0.363841        0.8724\n",
              "15  0.334394  0.878909  0.366048        0.8702\n",
              "16  0.329325  0.881364  0.367494        0.8666\n",
              "17  0.324786  0.882418  0.374867        0.8670\n",
              "18  0.320312  0.884873  0.342484        0.8784\n",
              "19  0.316858  0.884964  0.349210        0.8738\n",
              "20  0.313263  0.887164  0.347590        0.8732\n",
              "21  0.308899  0.887873  0.347191        0.8758\n",
              "22  0.305755  0.889400  0.353008        0.8716\n",
              "23  0.302291  0.891218  0.368817        0.8646\n",
              "24  0.299323  0.890655  0.343950        0.8740\n",
              "25  0.295957  0.892364  0.361523        0.8722\n",
              "26  0.291731  0.894073  0.345620        0.8752\n",
              "27  0.289857  0.894545  0.343686        0.8768\n",
              "28  0.286200  0.896018  0.348845        0.8770\n",
              "29  0.284672  0.896255  0.343772        0.8798"
            ]
          },
          "metadata": {},
          "execution_count": 48
        }
      ]
    },
    {
      "cell_type": "code",
      "source": [
        "pd.DataFrame(history.history).plot(figsize=(8, 5))\n",
        "plt.grid(True)\n",
        "plt.gca().set_ylim(0, 1)\n",
        "plt.show()"
      ],
      "metadata": {
        "colab": {
          "base_uri": "https://localhost:8080/",
          "height": 320
        },
        "id": "esms-YEtzo-b",
        "outputId": "651b5ddc-239d-4b22-c933-b55419423245"
      },
      "execution_count": null,
      "outputs": [
        {
          "output_type": "display_data",
          "data": {
            "image/png": "[encoded data removed]",
            "text/plain": [
              "<Figure size 576x360 with 1 Axes>"
            ]
          },
          "metadata": {
            "needs_background": "light"
          }
        }
      ]
    },
    {
      "cell_type": "markdown",
      "source": [
        "Evaluation"
      ],
      "metadata": {
        "id": "LjohF5M_4Qlz"
      }
    },
    {
      "cell_type": "code",
      "source": [
        "model.evaluate(X_test, y_test)"
      ],
      "metadata": {
        "colab": {
          "base_uri": "https://localhost:8080/"
        },
        "id": "eRO8l5M6zvks",
        "outputId": "117594bc-d34b-456c-8ff0-fb1292666a0a"
      },
      "execution_count": null,
      "outputs": [
        {
          "output_type": "stream",
          "name": "stdout",
          "text": [
            "313/313 [==============================] - 1s 3ms/step - loss: 0.3744 - accuracy: 0.8695\n"
          ]
        },
        {
          "output_type": "execute_result",
          "data": {
            "text/plain": [
              "[0.3744426667690277, 0.8694999814033508]"
            ]
          },
          "metadata": {},
          "execution_count": 50
        }
      ]
    },
    {
      "cell_type": "markdown",
      "source": [
        "Hence we can see train accuracy as 87.98 % and test accuracy as 86.94%"
      ],
      "metadata": {
        "id": "G-his24h-VaW"
      }
    },
    {
      "cell_type": "markdown",
      "source": [
        "prediction for test image"
      ],
      "metadata": {
        "id": "qkEFDwMM4WlJ"
      }
    },
    {
      "cell_type": "code",
      "source": [
        "X_new = X_test[:3]\n",
        "y_proba = model.predict(X_new)\n",
        "y_proba.round(2)"
      ],
      "metadata": {
        "colab": {
          "base_uri": "https://localhost:8080/"
        },
        "id": "NkzfeEt_z0Tn",
        "outputId": "8b137003-dd46-47de-9e3d-0e45233dac9a"
      },
      "execution_count": null,
      "outputs": [
        {
          "output_type": "execute_result",
          "data": {
            "text/plain": [
              "array([[0.  , 0.  , 0.  , 0.  , 0.  , 0.  , 0.  , 0.01, 0.  , 0.98],\n",
              "       [0.  , 0.  , 0.99, 0.  , 0.01, 0.  , 0.  , 0.  , 0.  , 0.  ],\n",
              "       [0.  , 1.  , 0.  , 0.  , 0.  , 0.  , 0.  , 0.  , 0.  , 0.  ]],\n",
              "      dtype=float32)"
            ]
          },
          "metadata": {},
          "execution_count": 51
        }
      ]
    },
    {
      "cell_type": "code",
      "source": [
        "y_pred = np.argmax(model.predict(X_new), axis=-1)\n",
        "y_pred"
      ],
      "metadata": {
        "colab": {
          "base_uri": "https://localhost:8080/"
        },
        "id": "vmU2KzWpz7B6",
        "outputId": "8d39843d-a6a2-4eb0-dac1-ad01c62b2531"
      },
      "execution_count": null,
      "outputs": [
        {
          "output_type": "execute_result",
          "data": {
            "text/plain": [
              "array([9, 2, 1])"
            ]
          },
          "metadata": {},
          "execution_count": 52
        }
      ]
    },
    {
      "cell_type": "code",
      "source": [
        "for i in range(len(y_pred)):\n",
        "  if(y_pred[i]==0):\n",
        "    print(\"T-shirt/top\")\n",
        "\n",
        "  elif(y_pred[i]==1):\n",
        "    print(\"Trouser\")\n",
        "\n",
        "  elif(y_pred[i]==2):\n",
        "    print(\"Pullover\")\n",
        "\n",
        "  elif(y_pred[i]==3):\n",
        "    print(\"Dress\")\n",
        "  elif(y_pred[i]==4):\n",
        "    print(\"Coat\")\n",
        "\n",
        "  elif(y_pred[i]==5):\n",
        "    print(\"Sandal\")\n",
        "\n",
        "  elif(y_pred[i]==6):\n",
        "    print(\"Shirt\")\n",
        "\n",
        "  elif(y_pred[i]==7):\n",
        "    print(\"Sneaker\")\n",
        "\n",
        "  elif(y_pred[i]==8):\n",
        "    print(\"Bag\")\n",
        "\n",
        "  else:\n",
        "    print(\"Ankle boot\")"
      ],
      "metadata": {
        "colab": {
          "base_uri": "https://localhost:8080/"
        },
        "id": "FEzkpL9M0nD1",
        "outputId": "e994bce0-e1e2-4f67-f95f-8f547474b48b"
      },
      "execution_count": null,
      "outputs": [
        {
          "output_type": "stream",
          "name": "stdout",
          "text": [
            "Ankle boot\n",
            "Pullover\n",
            "Trouser\n"
          ]
        }
      ]
    },
    {
      "cell_type": "code",
      "source": [
        "y_test_new = y_test[:3]"
      ],
      "metadata": {
        "id": "g3cZ2-270JnR"
      },
      "execution_count": null,
      "outputs": []
    },
    {
      "cell_type": "code",
      "source": [
        "for data, pred, actual in zip(X_new, y_pred, y_test_new):\n",
        "    plt.imshow(data, cmap=\"binary\")\n",
        "    plt.title(f\"Predicted: {pred}, Actual: {actual}\")\n",
        "    plt.axis('off')\n",
        "    plt.show()\n",
        "    print(\"---\"*20)"
      ],
      "metadata": {
        "colab": {
          "base_uri": "https://localhost:8080/",
          "height": 813
        },
        "id": "aKsoNawOz-8a",
        "outputId": "74b29f4a-e572-48ae-a33c-b0eba4188b7e"
      },
      "execution_count": null,
      "outputs": [
        {
          "output_type": "display_data",
          "data": {
            "image/png": "[encoded data removed]",
            "text/plain": [
              "<Figure size 432x288 with 1 Axes>"
            ]
          },
          "metadata": {
            "needs_background": "light"
          }
        },
        {
          "output_type": "stream",
          "name": "stdout",
          "text": [
            "------------------------------------------------------------\n"
          ]
        },
        {
          "output_type": "display_data",
          "data": {
            "image/png": "[encoded data removed]",
            "text/plain": [
              "<Figure size 432x288 with 1 Axes>"
            ]
          },
          "metadata": {
            "needs_background": "light"
          }
        },
        {
          "output_type": "stream",
          "name": "stdout",
          "text": [
            "------------------------------------------------------------\n"
          ]
        },
        {
          "output_type": "display_data",
          "data": {
            "image/png": "[encoded data removed]",
            "text/plain": [
              "<Figure size 432x288 with 1 Axes>"
            ]
          },
          "metadata": {
            "needs_background": "light"
          }
        },
        {
          "output_type": "stream",
          "name": "stdout",
          "text": [
            "------------------------------------------------------------\n"
          ]
        }
      ]
    },
    {
      "cell_type": "markdown",
      "source": [
        "prediction with new input image"
      ],
      "metadata": {
        "id": "bN7PDXQo4bBE"
      }
    },
    {
      "cell_type": "markdown",
      "source": [
        "loading the saved model"
      ],
      "metadata": {
        "id": "AQdrZ2Rj-jqT"
      }
    },
    {
      "cell_type": "code",
      "source": [
        "model_1=tf.keras.models.load_model('/content/drive/MyDrive/Deep Learning 19MAM65/SAVED_MODELS_fashion_minist/Model_2022_03_01_14_40_20_.h5')"
      ],
      "metadata": {
        "id": "ENmvgj7R7d9G"
      },
      "execution_count": null,
      "outputs": []
    },
    {
      "cell_type": "code",
      "source": [
        "from keras.preprocessing import image\n",
        "import numpy as np\n",
        "test_img = image.load_img('/content/drive/MyDrive/Deep Learning 19MAM65/fashion_minist_test_img.png', target_size=(28, 28))\n",
        "test_img = image.img_to_array(test_img)\n",
        "test_img = test_img[:,:,1].reshape(1,28,28,1)\n",
        "test_img = test_img/255\n",
        "result = np.argmax(model.predict(test_img), axis=-1)\n",
        "#print(result[0])\n",
        "if(result[0]==0):\n",
        "    print(\"T-shirt/top\")\n",
        "\n",
        "elif(result[0]==1):\n",
        "    print(\"Trouser\")\n",
        "\n",
        "elif(result[0]==2):\n",
        "    print(\"Pullover\")\n",
        "\n",
        "elif(result[0]==3):\n",
        "    print(\"Dress\")\n",
        "elif(result[0]==4):\n",
        "    print(\"Coat\")\n",
        "\n",
        "elif(result[0]==5):\n",
        "    print(\"Sandal\")\n",
        "\n",
        "elif(result[0]==6):\n",
        "    print(\"Shirt\")\n",
        "\n",
        "elif(result[0]==7):\n",
        "    print(\"Sneaker\")\n",
        "\n",
        "elif(result[0]==8):\n",
        "    print(\"Bag\")\n",
        "\n",
        "else:\n",
        "    print(\"Ankle boot\")"
      ],
      "metadata": {
        "colab": {
          "base_uri": "https://localhost:8080/"
        },
        "id": "O58p2iZ_0L39",
        "outputId": "f2e822f2-a158-456b-eb39-12149cf689d9"
      },
      "execution_count": null,
      "outputs": [
        {
          "output_type": "stream",
          "name": "stdout",
          "text": [
            "Pullover\n"
          ]
        }
      ]
    }
  ]
}
